{
 "cells": [
  {
   "cell_type": "code",
   "execution_count": 1,
   "metadata": {},
   "outputs": [],
   "source": [
    "import pandas as pd"
   ]
  },
  {
   "cell_type": "code",
   "execution_count": 2,
   "metadata": {},
   "outputs": [],
   "source": [
    "z031 = pd.read_csv(\"zindex031_iconsense_extractie_20230825.csv\", sep = ';', low_memory=False) #Handelsproducten\n",
    "z701 = pd.read_csv(\"zindex701_iconsense_extractie_20230825.csv\", sep=';', low_memory=False) # Samenstelling (HPK's per ingrediënt)\n",
    "z750 = pd.read_csv(\"zindex750_HiX_extractie_20230825.csv\", sep=',', low_memory=False) # Generieke namen\n",
    "z051 = pd.read_csv(\"zindex051_iconsense_extractie_20230829.csv\", sep=';', low_memory=False) # Voorschrijfproducten\n",
    "z711 = pd.read_csv(\"zindex711_iconsense_extractie_20230829.csv\", sep=';', low_memory=False) # Generieke producten\n",
    "z902 = pd.read_csv(\"zindex902_iconsense_extractie_20230829.csv\", sep=';', low_memory=False) # Thesauri algemeen\n",
    "z801 = pd.read_csv(\"zindex801_iconsense_extractie_20230829.csv\", sep=';', low_memory=False) # ATC codes"
   ]
  },
  {
   "cell_type": "code",
   "execution_count": 3,
   "metadata": {},
   "outputs": [
    {
     "name": "stderr",
     "output_type": "stream",
     "text": [
      "/tmp/ipykernel_17618/3816285658.py:13: SettingWithCopyWarning: \n",
      "A value is trying to be set on a copy of a slice from a DataFrame.\n",
      "Try using .loc[row_indexer,col_indexer] = value instead\n",
      "\n",
      "See the caveats in the documentation: https://pandas.pydata.org/pandas-docs/stable/user_guide/indexing.html#returning-a-view-versus-a-copy\n",
      "  z902_f['TSITNR'] = z902_f['TSITNR'].apply(lambda x: str(x).lstrip('0'))\n"
     ]
    }
   ],
   "source": [
    "relevant_columns_750 = ['Generiekenaamcode','Generieke naam']\n",
    "relevant_columns_701 = ['HPKODE', 'GNMWHS', 'GNGNK', 'GNMINH'] #GNGNK = Generiekenaamcode\n",
    "relevant_columns_031 = ['HPKODE', 'NMNAAM', 'PRKODE'] #https://www.z-index.nl/documentatie/bestandsbeschrijvingen/bestand?bestandsnaam=BST031T\n",
    "relevant_columns_051 = ['PRKODE', 'GPKODE'] #https://www.z-index.nl/documentatie/bestandsbeschrijvingen/bestand?bestandsnaam=BST051T\n",
    "relevant_columns_711 = ['THKTWG','GPKODE', 'GPKTWG','ATCODE'] #https://www.z-index.nl/documentatie/bestandsbeschrijvingen/bestand?bestandsnaam=BST711T\n",
    "relevant_columns_902 = ['TSNR','TSITNR', 'THNM50'] #https://www.z-index.nl/documentatie/bestandsbeschrijvingen/bestand?bestandsnaam=BST711T\n",
    "relevant_columns_801 = ['ATCODE', 'ATOMS'] #https://www.z-index.nl/documentatie/bestandsbeschrijvingen/bestand?bestandsnaam=BST801T\n",
    "\n",
    "## Filter thesaurus on thesarus '7' (=toedienwegen)\n",
    "z902_f = z902.loc[z902['TSNR'] == 7]\n",
    "\n",
    "##remove trailing leading zero's\n",
    "z902_f['TSITNR'] = z902_f['TSITNR'].apply(lambda x: str(x).lstrip('0'))\n",
    "\n",
    "## format to string without decimal\n",
    "z711['GPKTWG'] = z711['GPKTWG'].astype('Int64').astype(str)\n",
    "\n",
    "KM_t01a =z701[relevant_columns_701].merge(z031[relevant_columns_031], how= 'left', on= 'HPKODE'\n",
    "                                            ).merge(z750[relevant_columns_750], how= 'left', left_on= 'GNGNK', right_on='Generiekenaamcode'\n",
    "                                                    ).merge(z051[relevant_columns_051], how='left', on='PRKODE'\n",
    "                                                            ).merge(z711[relevant_columns_711], how='left', on='GPKODE'\n",
    "                                                                    ).merge(z902_f[relevant_columns_902], how='left', left_on='GPKTWG', right_on='TSITNR'\n",
    "                                                                            ).merge(z801[relevant_columns_801], how='left', on='ATCODE')"
   ]
  },
  {
   "cell_type": "code",
   "execution_count": 4,
   "metadata": {},
   "outputs": [],
   "source": [
    "# Step 1: Ensure 'Generieke naam' is of string type and handle missing values\n",
    "KM_t01a['Generieke naam'] = KM_t01a['Generieke naam'].astype(str).fillna('')\n",
    "\n",
    "# Step 1b: Remove all rows with active component\n",
    "KM_t01a_excipients_only = KM_t01a.loc[KM_t01a['GNMWHS'] == 'H']\n",
    "\n",
    "# Step 2: Group by 'NMNAAM' and aggregate excipients\n",
    "KM_grouped = KM_t01a_excipients_only.groupby('NMNAAM').agg({\n",
    "    # Aggregate excipients by joining unique values with semicolon\n",
    "    'Generieke naam': lambda x: ';'.join(x.dropna().unique()),\n",
    "    \n",
    "    # For other columns, decide on the aggregation method\n",
    "    # If these columns have the same value per 'NMNAAM', you can take the first occurrence\n",
    "    'HPKODE': 'first',\n",
    "    'GNMWHS': 'first',\n",
    "    'GNGNK': 'first',\n",
    "    'GNMINH': 'first',\n",
    "    'PRKODE': 'first',\n",
    "    'Generiekenaamcode': 'first',\n",
    "    'GPKODE': 'first',\n",
    "    'THKTWG': 'first',\n",
    "    'GPKTWG': 'first',\n",
    "    'ATCODE': 'first',\n",
    "    'TSNR': 'first',\n",
    "    'TSITNR': 'first',\n",
    "    'THNM50': 'first',\n",
    "    'ATOMS': 'first'\n",
    "}).reset_index()"
   ]
  },
  {
   "cell_type": "code",
   "execution_count": 5,
   "metadata": {},
   "outputs": [],
   "source": [
    "# Load excipient status CSV\n",
    "excipient_status_df = pd.read_csv('hulpstof_beoordelingsbestand_KetoMed_v20241230.csv', encoding=' latin1',sep=';')\n",
    "\n",
    "# Create mapping dictionary (ensure uppercase for consistency)\n",
    "excipient_status_map = dict(zip(excipient_status_df['Excipient'].str.upper(), excipient_status_df['Conclusion Ketoproof'].str.upper()))\n",
    "\n",
    "def determine_status_and_problematic_excipients(excipients, mapping):\n",
    "    if pd.isna(excipients) or excipients.strip() == '':\n",
    "        return pd.Series(['Unknown', '', ''])\n",
    "    \n",
    "    # Split the excipients by semicolon and strip whitespace\n",
    "    excipient_list = [exc.strip().upper() for exc in excipients.split(';')]\n",
    "    \n",
    "    has_no = False\n",
    "    has_unknown = False\n",
    "    non_ketoproof_excipients = []\n",
    "    unknown_excipients = []\n",
    "    \n",
    "    for exc in excipient_list:\n",
    "        status = mapping.get(exc, 'UNKNOWN')  # Default to 'UNKNOWN' if not found\n",
    "        if status == 'NO':\n",
    "            has_no = True\n",
    "            non_ketoproof_excipients.append(exc.title())\n",
    "        elif status == 'UNKNOWN':\n",
    "            has_unknown = True\n",
    "            unknown_excipients.append(exc.title())\n",
    "    \n",
    "    # Determine Handelsproduct Status\n",
    "    if has_no:\n",
    "        status = 'No'\n",
    "    elif has_unknown:\n",
    "        status = 'Unknown'\n",
    "    else:\n",
    "        status = 'Yes'\n",
    "    \n",
    "    # Create semicolon-separated strings\n",
    "    non_ketoproof_str = '; '.join(non_ketoproof_excipients) if non_ketoproof_excipients else ''\n",
    "    unknown_excipients_str = '; '.join(unknown_excipients) if unknown_excipients else ''\n",
    "    \n",
    "    return pd.Series([status, non_ketoproof_str, unknown_excipients_str])\n",
    "\n",
    "# Apply the function and expand the returned Series into three new columns\n",
    "KM_grouped[['Handelsproduct Status', 'Non-Ketoproof Excipients', 'Unknown Excipients']] = KM_grouped['Generieke naam'].apply(\n",
    "    lambda x: determine_status_and_problematic_excipients(x, excipient_status_map)\n",
    ")\n"
   ]
  },
  {
   "cell_type": "code",
   "execution_count": 6,
   "metadata": {},
   "outputs": [],
   "source": [
    "KM_grouped.to_csv('labeled_drugs.csv', encoding='latin1', index=False)"
   ]
  }
 ],
 "metadata": {
  "kernelspec": {
   "display_name": "Python 3",
   "language": "python",
   "name": "python3"
  },
  "language_info": {
   "codemirror_mode": {
    "name": "ipython",
    "version": 3
   },
   "file_extension": ".py",
   "mimetype": "text/x-python",
   "name": "python",
   "nbconvert_exporter": "python",
   "pygments_lexer": "ipython3",
   "version": "3.12.1"
  }
 },
 "nbformat": 4,
 "nbformat_minor": 2
}
